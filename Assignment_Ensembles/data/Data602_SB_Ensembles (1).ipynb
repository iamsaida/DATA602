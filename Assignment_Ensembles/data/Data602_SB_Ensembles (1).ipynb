{
 "cells": [
  {
   "cell_type": "code",
   "execution_count": 1,
   "metadata": {},
   "outputs": [],
   "source": [
    "import pandas as pd\n",
    "import numpy as np\n",
    "import csv"
   ]
  },
  {
   "cell_type": "code",
   "execution_count": 2,
   "metadata": {},
   "outputs": [
    {
     "data": {
      "text/html": [
       "<div>\n",
       "<style scoped>\n",
       "    .dataframe tbody tr th:only-of-type {\n",
       "        vertical-align: middle;\n",
       "    }\n",
       "\n",
       "    .dataframe tbody tr th {\n",
       "        vertical-align: top;\n",
       "    }\n",
       "\n",
       "    .dataframe thead th {\n",
       "        text-align: right;\n",
       "    }\n",
       "</style>\n",
       "<table border=\"1\" class=\"dataframe\">\n",
       "  <thead>\n",
       "    <tr style=\"text-align: right;\">\n",
       "      <th></th>\n",
       "      <th>carrier</th>\n",
       "      <th>flight</th>\n",
       "      <th>tailnum</th>\n",
       "      <th>origin</th>\n",
       "      <th>dest</th>\n",
       "      <th>air_time</th>\n",
       "      <th>distance</th>\n",
       "      <th>hour</th>\n",
       "      <th>minute</th>\n",
       "      <th>temp</th>\n",
       "      <th>...</th>\n",
       "      <th>precip</th>\n",
       "      <th>pressure</th>\n",
       "      <th>visib</th>\n",
       "      <th>type</th>\n",
       "      <th>manufacturer</th>\n",
       "      <th>model</th>\n",
       "      <th>engines</th>\n",
       "      <th>seats</th>\n",
       "      <th>engine</th>\n",
       "      <th>arr_delay</th>\n",
       "    </tr>\n",
       "  </thead>\n",
       "  <tbody>\n",
       "    <tr>\n",
       "      <th>0</th>\n",
       "      <td>B6</td>\n",
       "      <td>1201</td>\n",
       "      <td>N643JB</td>\n",
       "      <td>JFK</td>\n",
       "      <td>FLL</td>\n",
       "      <td>135.0</td>\n",
       "      <td>1069</td>\n",
       "      <td>21</td>\n",
       "      <td>50</td>\n",
       "      <td>73.04</td>\n",
       "      <td>...</td>\n",
       "      <td>0.0</td>\n",
       "      <td>1019.4</td>\n",
       "      <td>10.0</td>\n",
       "      <td>Fixed wing multi engine</td>\n",
       "      <td>AIRBUS</td>\n",
       "      <td>A320-232</td>\n",
       "      <td>2.0</td>\n",
       "      <td>200.0</td>\n",
       "      <td>Turbo-fan</td>\n",
       "      <td>1.0</td>\n",
       "    </tr>\n",
       "    <tr>\n",
       "      <th>1</th>\n",
       "      <td>DL</td>\n",
       "      <td>1773</td>\n",
       "      <td>N3743H</td>\n",
       "      <td>JFK</td>\n",
       "      <td>LAS</td>\n",
       "      <td>287.0</td>\n",
       "      <td>2248</td>\n",
       "      <td>15</td>\n",
       "      <td>35</td>\n",
       "      <td>71.06</td>\n",
       "      <td>...</td>\n",
       "      <td>0.0</td>\n",
       "      <td>1020.4</td>\n",
       "      <td>10.0</td>\n",
       "      <td>Fixed wing multi engine</td>\n",
       "      <td>BOEING</td>\n",
       "      <td>737-832</td>\n",
       "      <td>2.0</td>\n",
       "      <td>189.0</td>\n",
       "      <td>Turbo-jet</td>\n",
       "      <td>0.0</td>\n",
       "    </tr>\n",
       "    <tr>\n",
       "      <th>2</th>\n",
       "      <td>EV</td>\n",
       "      <td>4572</td>\n",
       "      <td>N11107</td>\n",
       "      <td>EWR</td>\n",
       "      <td>GSP</td>\n",
       "      <td>84.0</td>\n",
       "      <td>594</td>\n",
       "      <td>15</td>\n",
       "      <td>9</td>\n",
       "      <td>78.80</td>\n",
       "      <td>...</td>\n",
       "      <td>0.0</td>\n",
       "      <td>NaN</td>\n",
       "      <td>5.0</td>\n",
       "      <td>Fixed wing multi engine</td>\n",
       "      <td>EMBRAER</td>\n",
       "      <td>EMB-145XR</td>\n",
       "      <td>2.0</td>\n",
       "      <td>55.0</td>\n",
       "      <td>Turbo-fan</td>\n",
       "      <td>1.0</td>\n",
       "    </tr>\n",
       "    <tr>\n",
       "      <th>3</th>\n",
       "      <td>B6</td>\n",
       "      <td>179</td>\n",
       "      <td>N526JB</td>\n",
       "      <td>JFK</td>\n",
       "      <td>PHX</td>\n",
       "      <td>305.0</td>\n",
       "      <td>2153</td>\n",
       "      <td>17</td>\n",
       "      <td>35</td>\n",
       "      <td>44.06</td>\n",
       "      <td>...</td>\n",
       "      <td>0.0</td>\n",
       "      <td>1009.2</td>\n",
       "      <td>10.0</td>\n",
       "      <td>NaN</td>\n",
       "      <td>NaN</td>\n",
       "      <td>NaN</td>\n",
       "      <td>NaN</td>\n",
       "      <td>NaN</td>\n",
       "      <td>NaN</td>\n",
       "      <td>1.0</td>\n",
       "    </tr>\n",
       "    <tr>\n",
       "      <th>4</th>\n",
       "      <td>US</td>\n",
       "      <td>1733</td>\n",
       "      <td>N162UW</td>\n",
       "      <td>LGA</td>\n",
       "      <td>CLT</td>\n",
       "      <td>78.0</td>\n",
       "      <td>544</td>\n",
       "      <td>7</td>\n",
       "      <td>53</td>\n",
       "      <td>69.98</td>\n",
       "      <td>...</td>\n",
       "      <td>0.0</td>\n",
       "      <td>1021.3</td>\n",
       "      <td>10.0</td>\n",
       "      <td>Fixed wing multi engine</td>\n",
       "      <td>AIRBUS INDUSTRIE</td>\n",
       "      <td>A321-211</td>\n",
       "      <td>2.0</td>\n",
       "      <td>199.0</td>\n",
       "      <td>Turbo-jet</td>\n",
       "      <td>0.0</td>\n",
       "    </tr>\n",
       "    <tr>\n",
       "      <th>...</th>\n",
       "      <td>...</td>\n",
       "      <td>...</td>\n",
       "      <td>...</td>\n",
       "      <td>...</td>\n",
       "      <td>...</td>\n",
       "      <td>...</td>\n",
       "      <td>...</td>\n",
       "      <td>...</td>\n",
       "      <td>...</td>\n",
       "      <td>...</td>\n",
       "      <td>...</td>\n",
       "      <td>...</td>\n",
       "      <td>...</td>\n",
       "      <td>...</td>\n",
       "      <td>...</td>\n",
       "      <td>...</td>\n",
       "      <td>...</td>\n",
       "      <td>...</td>\n",
       "      <td>...</td>\n",
       "      <td>...</td>\n",
       "      <td>...</td>\n",
       "    </tr>\n",
       "    <tr>\n",
       "      <th>9995</th>\n",
       "      <td>UA</td>\n",
       "      <td>535</td>\n",
       "      <td>N525UA</td>\n",
       "      <td>JFK</td>\n",
       "      <td>LAX</td>\n",
       "      <td>323.0</td>\n",
       "      <td>2475</td>\n",
       "      <td>18</td>\n",
       "      <td>35</td>\n",
       "      <td>48.92</td>\n",
       "      <td>...</td>\n",
       "      <td>0.0</td>\n",
       "      <td>1025.3</td>\n",
       "      <td>10.0</td>\n",
       "      <td>NaN</td>\n",
       "      <td>NaN</td>\n",
       "      <td>NaN</td>\n",
       "      <td>NaN</td>\n",
       "      <td>NaN</td>\n",
       "      <td>NaN</td>\n",
       "      <td>1.0</td>\n",
       "    </tr>\n",
       "    <tr>\n",
       "      <th>9996</th>\n",
       "      <td>DL</td>\n",
       "      <td>1147</td>\n",
       "      <td>N977DL</td>\n",
       "      <td>LGA</td>\n",
       "      <td>ATL</td>\n",
       "      <td>106.0</td>\n",
       "      <td>762</td>\n",
       "      <td>20</td>\n",
       "      <td>0</td>\n",
       "      <td>75.02</td>\n",
       "      <td>...</td>\n",
       "      <td>0.0</td>\n",
       "      <td>1017.3</td>\n",
       "      <td>10.0</td>\n",
       "      <td>Fixed wing multi engine</td>\n",
       "      <td>MCDONNELL DOUGLAS AIRCRAFT CO</td>\n",
       "      <td>MD-88</td>\n",
       "      <td>2.0</td>\n",
       "      <td>142.0</td>\n",
       "      <td>Turbo-fan</td>\n",
       "      <td>1.0</td>\n",
       "    </tr>\n",
       "    <tr>\n",
       "      <th>9997</th>\n",
       "      <td>EV</td>\n",
       "      <td>4204</td>\n",
       "      <td>N12163</td>\n",
       "      <td>EWR</td>\n",
       "      <td>OKC</td>\n",
       "      <td>NaN</td>\n",
       "      <td>1325</td>\n",
       "      <td>20</td>\n",
       "      <td>9</td>\n",
       "      <td>37.04</td>\n",
       "      <td>...</td>\n",
       "      <td>0.0</td>\n",
       "      <td>1017.0</td>\n",
       "      <td>9.0</td>\n",
       "      <td>Fixed wing multi engine</td>\n",
       "      <td>EMBRAER</td>\n",
       "      <td>EMB-145XR</td>\n",
       "      <td>2.0</td>\n",
       "      <td>55.0</td>\n",
       "      <td>Turbo-fan</td>\n",
       "      <td>NaN</td>\n",
       "    </tr>\n",
       "    <tr>\n",
       "      <th>9998</th>\n",
       "      <td>B6</td>\n",
       "      <td>431</td>\n",
       "      <td>N585JB</td>\n",
       "      <td>LGA</td>\n",
       "      <td>SRQ</td>\n",
       "      <td>146.0</td>\n",
       "      <td>1047</td>\n",
       "      <td>13</td>\n",
       "      <td>30</td>\n",
       "      <td>35.96</td>\n",
       "      <td>...</td>\n",
       "      <td>0.0</td>\n",
       "      <td>1016.9</td>\n",
       "      <td>10.0</td>\n",
       "      <td>Fixed wing multi engine</td>\n",
       "      <td>AIRBUS</td>\n",
       "      <td>A320-232</td>\n",
       "      <td>2.0</td>\n",
       "      <td>200.0</td>\n",
       "      <td>Turbo-fan</td>\n",
       "      <td>1.0</td>\n",
       "    </tr>\n",
       "    <tr>\n",
       "      <th>9999</th>\n",
       "      <td>B6</td>\n",
       "      <td>2302</td>\n",
       "      <td>N368JB</td>\n",
       "      <td>JFK</td>\n",
       "      <td>BUF</td>\n",
       "      <td>64.0</td>\n",
       "      <td>301</td>\n",
       "      <td>16</td>\n",
       "      <td>15</td>\n",
       "      <td>84.02</td>\n",
       "      <td>...</td>\n",
       "      <td>0.0</td>\n",
       "      <td>1013.0</td>\n",
       "      <td>10.0</td>\n",
       "      <td>Fixed wing multi engine</td>\n",
       "      <td>EMBRAER</td>\n",
       "      <td>ERJ 190-100 IGW</td>\n",
       "      <td>2.0</td>\n",
       "      <td>20.0</td>\n",
       "      <td>Turbo-fan</td>\n",
       "      <td>0.0</td>\n",
       "    </tr>\n",
       "  </tbody>\n",
       "</table>\n",
       "<p>10000 rows × 25 columns</p>\n",
       "</div>"
      ],
      "text/plain": [
       "     carrier  flight tailnum origin dest  air_time  distance  hour  minute  \\\n",
       "0         B6    1201  N643JB    JFK  FLL     135.0      1069    21      50   \n",
       "1         DL    1773  N3743H    JFK  LAS     287.0      2248    15      35   \n",
       "2         EV    4572  N11107    EWR  GSP      84.0       594    15       9   \n",
       "3         B6     179  N526JB    JFK  PHX     305.0      2153    17      35   \n",
       "4         US    1733  N162UW    LGA  CLT      78.0       544     7      53   \n",
       "...      ...     ...     ...    ...  ...       ...       ...   ...     ...   \n",
       "9995      UA     535  N525UA    JFK  LAX     323.0      2475    18      35   \n",
       "9996      DL    1147  N977DL    LGA  ATL     106.0       762    20       0   \n",
       "9997      EV    4204  N12163    EWR  OKC       NaN      1325    20       9   \n",
       "9998      B6     431  N585JB    LGA  SRQ     146.0      1047    13      30   \n",
       "9999      B6    2302  N368JB    JFK  BUF      64.0       301    16      15   \n",
       "\n",
       "       temp  ...  precip  pressure  visib                     type  \\\n",
       "0     73.04  ...     0.0    1019.4   10.0  Fixed wing multi engine   \n",
       "1     71.06  ...     0.0    1020.4   10.0  Fixed wing multi engine   \n",
       "2     78.80  ...     0.0       NaN    5.0  Fixed wing multi engine   \n",
       "3     44.06  ...     0.0    1009.2   10.0                      NaN   \n",
       "4     69.98  ...     0.0    1021.3   10.0  Fixed wing multi engine   \n",
       "...     ...  ...     ...       ...    ...                      ...   \n",
       "9995  48.92  ...     0.0    1025.3   10.0                      NaN   \n",
       "9996  75.02  ...     0.0    1017.3   10.0  Fixed wing multi engine   \n",
       "9997  37.04  ...     0.0    1017.0    9.0  Fixed wing multi engine   \n",
       "9998  35.96  ...     0.0    1016.9   10.0  Fixed wing multi engine   \n",
       "9999  84.02  ...     0.0    1013.0   10.0  Fixed wing multi engine   \n",
       "\n",
       "                       manufacturer            model  engines  seats  \\\n",
       "0                            AIRBUS         A320-232      2.0  200.0   \n",
       "1                            BOEING          737-832      2.0  189.0   \n",
       "2                           EMBRAER        EMB-145XR      2.0   55.0   \n",
       "3                               NaN              NaN      NaN    NaN   \n",
       "4                  AIRBUS INDUSTRIE         A321-211      2.0  199.0   \n",
       "...                             ...              ...      ...    ...   \n",
       "9995                            NaN              NaN      NaN    NaN   \n",
       "9996  MCDONNELL DOUGLAS AIRCRAFT CO            MD-88      2.0  142.0   \n",
       "9997                        EMBRAER        EMB-145XR      2.0   55.0   \n",
       "9998                         AIRBUS         A320-232      2.0  200.0   \n",
       "9999                        EMBRAER  ERJ 190-100 IGW      2.0   20.0   \n",
       "\n",
       "         engine arr_delay  \n",
       "0     Turbo-fan       1.0  \n",
       "1     Turbo-jet       0.0  \n",
       "2     Turbo-fan       1.0  \n",
       "3           NaN       1.0  \n",
       "4     Turbo-jet       0.0  \n",
       "...         ...       ...  \n",
       "9995        NaN       1.0  \n",
       "9996  Turbo-fan       1.0  \n",
       "9997  Turbo-fan       NaN  \n",
       "9998  Turbo-fan       1.0  \n",
       "9999  Turbo-fan       0.0  \n",
       "\n",
       "[10000 rows x 25 columns]"
      ]
     },
     "execution_count": 2,
     "metadata": {},
     "output_type": "execute_result"
    }
   ],
   "source": [
    "df=pd.read_csv('flight-data.csv')\n",
    "df"
   ]
  },
  {
   "cell_type": "code",
   "execution_count": 3,
   "metadata": {},
   "outputs": [
    {
     "name": "stdout",
     "output_type": "stream",
     "text": [
      "<class 'pandas.core.frame.DataFrame'>\n",
      "RangeIndex: 10000 entries, 0 to 9999\n",
      "Data columns (total 25 columns):\n",
      " #   Column        Non-Null Count  Dtype  \n",
      "---  ------        --------------  -----  \n",
      " 0   carrier       10000 non-null  object \n",
      " 1   flight        10000 non-null  int64  \n",
      " 2   tailnum       9926 non-null   object \n",
      " 3   origin        10000 non-null  object \n",
      " 4   dest          10000 non-null  object \n",
      " 5   air_time      9716 non-null   float64\n",
      " 6   distance      10000 non-null  int64  \n",
      " 7   hour          10000 non-null  int64  \n",
      " 8   minute        10000 non-null  int64  \n",
      " 9   temp          9952 non-null   float64\n",
      " 10  dewp          9952 non-null   float64\n",
      " 11  humid         9952 non-null   float64\n",
      " 12  wind_dir      9731 non-null   float64\n",
      " 13  wind_speed    9951 non-null   float64\n",
      " 14  wind_gust     2387 non-null   float64\n",
      " 15  precip        9954 non-null   float64\n",
      " 16  pressure      8808 non-null   float64\n",
      " 17  visib         9954 non-null   float64\n",
      " 18  type          8499 non-null   object \n",
      " 19  manufacturer  8499 non-null   object \n",
      " 20  model         8499 non-null   object \n",
      " 21  engines       8499 non-null   float64\n",
      " 22  seats         8499 non-null   float64\n",
      " 23  engine        8499 non-null   object \n",
      " 24  arr_delay     9716 non-null   float64\n",
      "dtypes: float64(13), int64(4), object(8)\n",
      "memory usage: 1.9+ MB\n"
     ]
    }
   ],
   "source": [
    "df.info()"
   ]
  },
  {
   "cell_type": "code",
   "execution_count": 4,
   "metadata": {},
   "outputs": [
    {
     "data": {
      "image/png": "[encoded data removed]",
      "text/plain": [
       "<Figure size 432x288 with 1 Axes>"
      ]
     },
     "metadata": {
      "needs_background": "light"
     },
     "output_type": "display_data"
    }
   ],
   "source": [
    "import matplotlib.pyplot as plt\n",
    "df.arr_delay.value_counts().plot.barh()\n",
    "plt.title('Arrival Delay')\n",
    "plt.show()"
   ]
  },
  {
   "cell_type": "code",
   "execution_count": 5,
   "metadata": {},
   "outputs": [
    {
     "data": {
      "image/png": "[encoded data removed]",
      "text/plain": [
       "<Figure size 432x288 with 1 Axes>"
      ]
     },
     "metadata": {
      "needs_background": "light"
     },
     "output_type": "display_data"
    },
    {
     "data": {
      "text/plain": [
       "origin             3\n",
       "type               3\n",
       "engine             6\n",
       "carrier           16\n",
       "manufacturer      28\n",
       "model             86\n",
       "dest             101\n",
       "tailnum         2795\n",
       "dtype: int64"
      ]
     },
     "execution_count": 5,
     "metadata": {},
     "output_type": "execute_result"
    }
   ],
   "source": [
    "df.select_dtypes('object').nunique().sort_values().plot.barh()\n",
    "plt.title('Unique Values of Objects')\n",
    "plt.show()\n",
    "\n",
    "df.select_dtypes('object').nunique().sort_values()"
   ]
  },
  {
   "cell_type": "code",
   "execution_count": 6,
   "metadata": {},
   "outputs": [
    {
     "data": {
      "image/png": "[encoded data removed]",
      "text/plain": [
       "<Figure size 432x288 with 1 Axes>"
      ]
     },
     "metadata": {
      "needs_background": "light"
     },
     "output_type": "display_data"
    },
    {
     "data": {
      "text/plain": [
       "arr_delay        2\n",
       "engines          3\n",
       "visib           19\n",
       "wind_speed      32\n",
       "wind_gust       34\n",
       "wind_dir        37\n",
       "seats           40\n",
       "precip          45\n",
       "dewp           127\n",
       "temp           142\n",
       "air_time       381\n",
       "pressure       425\n",
       "humid         2005\n",
       "dtype: int64"
      ]
     },
     "execution_count": 6,
     "metadata": {},
     "output_type": "execute_result"
    }
   ],
   "source": [
    "df.select_dtypes('float').nunique().sort_values().plot.barh()\n",
    "plt.title('Unique Values of Objects')\n",
    "plt.show()\n",
    "\n",
    "df.select_dtypes('float').nunique().sort_values()"
   ]
  },
  {
   "cell_type": "code",
   "execution_count": 7,
   "metadata": {},
   "outputs": [
    {
     "data": {
      "image/png": "[encoded data removed]",
      "text/plain": [
       "<Figure size 432x288 with 1 Axes>"
      ]
     },
     "metadata": {
      "needs_background": "light"
     },
     "output_type": "display_data"
    },
    {
     "data": {
      "text/plain": [
       "hour          19\n",
       "minute        60\n",
       "distance     199\n",
       "flight      2290\n",
       "dtype: int64"
      ]
     },
     "execution_count": 7,
     "metadata": {},
     "output_type": "execute_result"
    }
   ],
   "source": [
    "df.select_dtypes('int').nunique().sort_values().plot.barh()\n",
    "plt.title('Unique Values of Objects')\n",
    "plt.show()\n",
    "\n",
    "df.select_dtypes('int').nunique().sort_values()"
   ]
  },
  {
   "cell_type": "code",
   "execution_count": 8,
   "metadata": {},
   "outputs": [
    {
     "data": {
      "image/png": "[encoded data removed]",
      "text/plain": [
       "<Figure size 720x720 with 20 Axes>"
      ]
     },
     "metadata": {
      "needs_background": "light"
     },
     "output_type": "display_data"
    }
   ],
   "source": [
    "df.select_dtypes(['int64','float64']).hist(figsize=(10,10))\n",
    "plt.tight_layout()\n",
    "plt.show()"
   ]
  },
  {
   "cell_type": "code",
   "execution_count": 9,
   "metadata": {},
   "outputs": [
    {
     "data": {
      "text/plain": [
       "carrier            0\n",
       "flight             0\n",
       "tailnum           74\n",
       "origin             0\n",
       "dest               0\n",
       "air_time         284\n",
       "distance           0\n",
       "hour               0\n",
       "minute             0\n",
       "temp              48\n",
       "dewp              48\n",
       "humid             48\n",
       "wind_dir         269\n",
       "wind_speed        49\n",
       "wind_gust       7613\n",
       "precip            46\n",
       "pressure        1192\n",
       "visib             46\n",
       "type            1501\n",
       "manufacturer    1501\n",
       "model           1501\n",
       "engines         1501\n",
       "seats           1501\n",
       "engine          1501\n",
       "arr_delay        284\n",
       "dtype: int64"
      ]
     },
     "execution_count": 9,
     "metadata": {},
     "output_type": "execute_result"
    }
   ],
   "source": [
    "df.isna().sum()"
   ]
  },
  {
   "cell_type": "code",
   "execution_count": 10,
   "metadata": {},
   "outputs": [
    {
     "name": "stdout",
     "output_type": "stream",
     "text": [
      "<class 'pandas.core.frame.DataFrame'>\n",
      "RangeIndex: 10000 entries, 0 to 9999\n",
      "Data columns (total 25 columns):\n",
      " #   Column        Non-Null Count  Dtype  \n",
      "---  ------        --------------  -----  \n",
      " 0   carrier       10000 non-null  object \n",
      " 1   flight        10000 non-null  int64  \n",
      " 2   tailnum       9926 non-null   object \n",
      " 3   origin        10000 non-null  object \n",
      " 4   dest          10000 non-null  object \n",
      " 5   air_time      9716 non-null   float64\n",
      " 6   distance      10000 non-null  int64  \n",
      " 7   hour          10000 non-null  int64  \n",
      " 8   minute        10000 non-null  int64  \n",
      " 9   temp          9952 non-null   float64\n",
      " 10  dewp          9952 non-null   float64\n",
      " 11  humid         9952 non-null   float64\n",
      " 12  wind_dir      9731 non-null   float64\n",
      " 13  wind_speed    9951 non-null   float64\n",
      " 14  wind_gust     2387 non-null   float64\n",
      " 15  precip        9954 non-null   float64\n",
      " 16  pressure      8808 non-null   float64\n",
      " 17  visib         9954 non-null   float64\n",
      " 18  type          8499 non-null   object \n",
      " 19  manufacturer  8499 non-null   object \n",
      " 20  model         8499 non-null   object \n",
      " 21  engines       8499 non-null   float64\n",
      " 22  seats         8499 non-null   float64\n",
      " 23  engine        8499 non-null   object \n",
      " 24  arr_delay     9716 non-null   float64\n",
      "dtypes: float64(13), int64(4), object(8)\n",
      "memory usage: 1.9+ MB\n"
     ]
    }
   ],
   "source": [
    "df.info()"
   ]
  },
  {
   "cell_type": "code",
   "execution_count": 11,
   "metadata": {},
   "outputs": [],
   "source": [
    "# fill_median = lambda col : col.fillna(col.median())\n",
    "\n",
    "# df1 = df.select_dtypes(['int64','float64']).apply(fill_median, axis = 0)\n"
   ]
  },
  {
   "cell_type": "code",
   "execution_count": 17,
   "metadata": {},
   "outputs": [
    {
     "name": "stdout",
     "output_type": "stream",
     "text": [
      "Training examples: 8,000\n",
      "Test examples: 2,000\n"
     ]
    }
   ],
   "source": [
    "from sklearn.impute import SimpleImputer\n",
    "from sklearn.model_selection import train_test_split\n",
    "\n",
    "imputing = SimpleImputer(missing_values = np.nan,strategy='most_frequent')\n",
    "df['arr_delay']= imputing.fit_transform(df[['arr_delay']])\n",
    "\n",
    "y=df.arr_delay\n",
    "X=df.drop(['arr_delay'], axis=1)\n",
    "X_train, X_test, y_train, y_test = train_test_split(X, y, test_size=0.20)\n",
    "\n",
    "print(f'Training examples: {X_train.shape[0]:,}')\n",
    "print(f'Test examples: {X_test.shape[0]:,}')"
   ]
  },
  {
   "cell_type": "code",
   "execution_count": 36,
   "metadata": {},
   "outputs": [
    {
     "data": {
      "text/plain": [
       "ColumnTransformer(transformers=[('cat',\n",
       "                                 Pipeline(steps=[('imputer',\n",
       "                                                  SimpleImputer(strategy='most_frequent')),\n",
       "                                                 ('encoder', OneHotEncoder())]),\n",
       "                                 ['origin']),\n",
       "                                ('num',\n",
       "                                 Pipeline(steps=[('imputer', SimpleImputer()),\n",
       "                                                 ('scaler', StandardScaler())]),\n",
       "                                 ['air_time', 'distance', 'hour', 'minute',\n",
       "                                  'temp', 'humid', 'wind_dir', 'wind_speed',\n",
       "                                  'wind_gust', 'pressure', 'visib'])])"
      ]
     },
     "execution_count": 36,
     "metadata": {},
     "output_type": "execute_result"
    }
   ],
   "source": [
    "from sklearn.preprocessing import StandardScaler\n",
    "from sklearn.preprocessing import LabelEncoder\n",
    "from sklearn.preprocessing import OneHotEncoder\n",
    "from sklearn.impute import SimpleImputer\n",
    "from sklearn.pipeline import Pipeline\n",
    "from sklearn.compose import ColumnTransformer\n",
    "\n",
    "#considering only required columns\n",
    "\n",
    "num_var = ['air_time','distance','hour','minute','temp','humid','wind_dir','wind_speed','wind_gust','pressure'\n",
    "          ,'visib']\n",
    "cat_var = ['origin']\n",
    "\n",
    "numeric_transformer =Pipeline(steps=[\n",
    "    (\"imputer\", SimpleImputer(strategy=\"mean\")),\n",
    "    (\"scaler\", StandardScaler())])\n",
    "categorical_transformer=Pipeline(steps=[\n",
    "    (\"imputer\",SimpleImputer(strategy=\"most_frequent\")),\n",
    "    (\"encoder\", OneHotEncoder())])\n",
    "\n",
    "processing_pipeline = ColumnTransformer(\n",
    "                      transformers=[(\n",
    "                      \"cat\", categorical_transformer, cat_var),\n",
    "                      (\"num\", numeric_transformer, num_var)])\n",
    "processing_pipeline"
   ]
  },
  {
   "cell_type": "code",
   "execution_count": 37,
   "metadata": {},
   "outputs": [
    {
     "data": {
      "text/plain": [
       "Pipeline(steps=[('data_processing',\n",
       "                 ColumnTransformer(transformers=[('cat',\n",
       "                                                  Pipeline(steps=[('imputer',\n",
       "                                                                   SimpleImputer(strategy='most_frequent')),\n",
       "                                                                  ('encoder',\n",
       "                                                                   OneHotEncoder())]),\n",
       "                                                  ['origin']),\n",
       "                                                 ('num',\n",
       "                                                  Pipeline(steps=[('imputer',\n",
       "                                                                   SimpleImputer()),\n",
       "                                                                  ('scaler',\n",
       "                                                                   StandardScaler())]),\n",
       "                                                  ['air_time', 'distance',\n",
       "                                                   'hour', 'minute', 'temp',\n",
       "                                                   'humid', 'wind_dir',\n",
       "                                                   'wind_speed', 'wind_gust',\n",
       "                                                   'pressure', 'visib'])])),\n",
       "                ('log_reg', LogisticRegression())])"
      ]
     },
     "execution_count": 37,
     "metadata": {},
     "output_type": "execute_result"
    }
   ],
   "source": [
    "from sklearn.linear_model import LogisticRegression\n",
    "from sklearn.neighbors import KNeighborsClassifier\n",
    "\n",
    "model_log = Pipeline([('data_processing',processing_pipeline),('log_reg',LogisticRegression(penalty='l2', solver='lbfgs'))])\n",
    "model_log"
   ]
  },
  {
   "cell_type": "code",
   "execution_count": 38,
   "metadata": {},
   "outputs": [],
   "source": [
    "from sklearn.model_selection import GridSearchCV\n",
    "\n",
    "params = [{'log_reg__C':[0.01, 0.1, 1, 10,100,1000]}]\n",
    "gs_logistic= GridSearchCV(estimator=model_log, param_grid=params, scoring='roc_auc', refit=True)\n",
    "gs_logistic =gs_logistic.fit(X_train,y_train)"
   ]
  },
  {
   "cell_type": "code",
   "execution_count": 39,
   "metadata": {},
   "outputs": [
    {
     "name": "stdout",
     "output_type": "stream",
     "text": [
      "Logistic Regresion Validation Score: 66.91%\n"
     ]
    }
   ],
   "source": [
    "gs_logistic.best_score_\n",
    "print(f'Logistic Regresion Validation Score: {gs_logistic.best_score_:.2%}')"
   ]
  },
  {
   "cell_type": "code",
   "execution_count": null,
   "metadata": {},
   "outputs": [],
   "source": []
  }
 ],
 "metadata": {
  "kernelspec": {
   "display_name": "Python 3",
   "language": "python",
   "name": "python3"
  },
  "language_info": {
   "codemirror_mode": {
    "name": "ipython",
    "version": 3
   },
   "file_extension": ".py",
   "mimetype": "text/x-python",
   "name": "python",
   "nbconvert_exporter": "python",
   "pygments_lexer": "ipython3",
   "version": "3.8.5"
  }
 },
 "nbformat": 4,
 "nbformat_minor": 4
}
